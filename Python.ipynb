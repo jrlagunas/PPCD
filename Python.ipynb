{
  "nbformat": 4,
  "nbformat_minor": 0,
  "metadata": {
    "colab": {
      "provenance": [],
      "authorship_tag": "ABX9TyPjCLpARLODADoV5BWxWzoY",
      "include_colab_link": true
    },
    "kernelspec": {
      "name": "python3",
      "display_name": "Python 3"
    },
    "language_info": {
      "name": "python"
    }
  },
  "cells": [
    {
      "cell_type": "markdown",
      "metadata": {
        "id": "view-in-github",
        "colab_type": "text"
      },
      "source": [
        "<a href=\"https://colab.research.google.com/github/jrlagunas/PPCD/blob/main/Python.ipynb\" target=\"_parent\"><img src=\"https://colab.research.google.com/assets/colab-badge.svg\" alt=\"Open In Colab\"/></a>"
      ]
    },
    {
      "cell_type": "markdown",
      "source": [
        "**Clase 9 de agosto 2023**:\n",
        "\n"
      ],
      "metadata": {
        "id": "ue87e07xww43"
      }
    },
    {
      "cell_type": "code",
      "execution_count": null,
      "metadata": {
        "colab": {
          "base_uri": "https://localhost:8080/"
        },
        "id": "7m79TIHQvG8v",
        "outputId": "fa34d32c-8f95-4851-93c3-aaa08a8c1e13"
      },
      "outputs": [
        {
          "output_type": "stream",
          "name": "stdout",
          "text": [
            "Hola Mundo\n"
          ]
        }
      ],
      "source": [
        "print(\"Hola Mundo\")"
      ]
    },
    {
      "cell_type": "code",
      "source": [
        "#Complejos\n",
        "x = 2.4 + 3.5j\n",
        "y = 5.5 + 8.4j\n",
        "\n",
        "print(\"Suma de Complejos\" , x+y)\n",
        "print(\"Multiplicacion de Complejos\" , x*y)\n"
      ],
      "metadata": {
        "colab": {
          "base_uri": "https://localhost:8080/"
        },
        "id": "dTOTsiSewvyY",
        "outputId": "02ba7e93-f7d2-4536-a6b3-ed411476630a"
      },
      "execution_count": null,
      "outputs": [
        {
          "output_type": "stream",
          "name": "stdout",
          "text": [
            "Suma de Complejos (7.9+11.9j)\n",
            "Multiplicacion de Complejos (-16.200000000000003+39.41j)\n"
          ]
        }
      ]
    },
    {
      "cell_type": "code",
      "source": [
        "#Listas\n",
        "x = [1,2,3,4,5,6,7,8,9]\n",
        "x[5]"
      ],
      "metadata": {
        "colab": {
          "base_uri": "https://localhost:8080/"
        },
        "id": "3F-j6COzy0fM",
        "outputId": "78e6c886-d41e-4a22-a4e9-ae52fda15ab1"
      },
      "execution_count": null,
      "outputs": [
        {
          "output_type": "execute_result",
          "data": {
            "text/plain": [
              "6"
            ]
          },
          "metadata": {},
          "execution_count": 11
        }
      ]
    },
    {
      "cell_type": "code",
      "source": [
        "#Particiones\n",
        "x[2:6]"
      ],
      "metadata": {
        "colab": {
          "base_uri": "https://localhost:8080/"
        },
        "id": "7TFRZJGj0DUX",
        "outputId": "25e146c8-300e-49da-9c9a-e2962ce6a355"
      },
      "execution_count": null,
      "outputs": [
        {
          "output_type": "execute_result",
          "data": {
            "text/plain": [
              "[3, 4, 5, 6]"
            ]
          },
          "metadata": {},
          "execution_count": 13
        }
      ]
    },
    {
      "cell_type": "code",
      "source": [
        "#Modificar algún elemento\n",
        "x[1]=\"uno\"\n",
        "x"
      ],
      "metadata": {
        "colab": {
          "base_uri": "https://localhost:8080/"
        },
        "id": "kKLKRIX60mT3",
        "outputId": "be73f4c0-a4d7-4220-ed0b-fee8eca25ac9"
      },
      "execution_count": null,
      "outputs": [
        {
          "output_type": "execute_result",
          "data": {
            "text/plain": [
              "[1, 'uno', 3, 4, 5, 6, 7, 8, 9]"
            ]
          },
          "metadata": {},
          "execution_count": 14
        }
      ]
    },
    {
      "cell_type": "code",
      "source": [
        "#Agregar un elemento\n",
        "x.append(10)\n",
        "x"
      ],
      "metadata": {
        "colab": {
          "base_uri": "https://localhost:8080/"
        },
        "id": "jGv5-dBc0rhI",
        "outputId": "1afa6d65-7f06-4de9-b591-d16d84f4820e"
      },
      "execution_count": null,
      "outputs": [
        {
          "output_type": "execute_result",
          "data": {
            "text/plain": [
              "[1, 'uno', 3, 4, 5, 6, 7, 8, 9, 10]"
            ]
          },
          "metadata": {},
          "execution_count": 15
        }
      ]
    },
    {
      "cell_type": "code",
      "source": [
        "#Insertar un elemento antes de otro, primero se indica el índice del elemento y luego el nuevo valor\n",
        "x.insert(1,\"Nuevo\")\n",
        "x"
      ],
      "metadata": {
        "colab": {
          "base_uri": "https://localhost:8080/"
        },
        "id": "vBRKqKM81Em6",
        "outputId": "4db732b7-b063-44b7-e981-856cd8412577"
      },
      "execution_count": null,
      "outputs": [
        {
          "output_type": "execute_result",
          "data": {
            "text/plain": [
              "[1, 'Nuevo', 'Nuevo', 'uno', 3, 4, 5, 6, 7, 8, 9, 10]"
            ]
          },
          "metadata": {},
          "execution_count": 17
        }
      ]
    },
    {
      "cell_type": "code",
      "source": [
        "x = [1,2,3]\n",
        "y = [4,5,6]\n",
        "\n",
        "x.extend(y)\n",
        "x"
      ],
      "metadata": {
        "colab": {
          "base_uri": "https://localhost:8080/"
        },
        "id": "3vJa9Kl71JU4",
        "outputId": "fc87efa1-80dc-4bcc-ccaf-af2a26e0efcb"
      },
      "execution_count": null,
      "outputs": [
        {
          "output_type": "execute_result",
          "data": {
            "text/plain": [
              "[1, 2, 3, 4, 5, 6]"
            ]
          },
          "metadata": {},
          "execution_count": 18
        }
      ]
    },
    {
      "cell_type": "code",
      "source": [
        "#Borrar elementos de una lista\n",
        "x = [0,1,2,3,4,5,6,7,8,9]\n",
        "del x[1]\n",
        "x"
      ],
      "metadata": {
        "colab": {
          "base_uri": "https://localhost:8080/"
        },
        "id": "yckekQ7D1u25",
        "outputId": "cd131d46-4040-41ab-c7a8-0dc146dbc05e"
      },
      "execution_count": null,
      "outputs": [
        {
          "output_type": "execute_result",
          "data": {
            "text/plain": [
              "[0, 2, 3, 4, 5, 6, 7, 8, 9]"
            ]
          },
          "metadata": {},
          "execution_count": 20
        }
      ]
    },
    {
      "cell_type": "code",
      "source": [
        "#Lista de Listas\n",
        "x = [[6,2],[3,1],[1,5],[7,0],[1,1]]\n",
        "y = x\n",
        "y.sort()\n",
        "x"
      ],
      "metadata": {
        "colab": {
          "base_uri": "https://localhost:8080/"
        },
        "id": "g2J2Hz7L1-Ib",
        "outputId": "62df4883-3ce3-45eb-e800-3497a2312505"
      },
      "execution_count": null,
      "outputs": [
        {
          "output_type": "execute_result",
          "data": {
            "text/plain": [
              "[[1, 1], [1, 5], [3, 1], [6, 2], [7, 0]]"
            ]
          },
          "metadata": {},
          "execution_count": 23
        }
      ]
    },
    {
      "cell_type": "markdown",
      "source": [
        "**CLASE 14 DE AGOSTO**"
      ],
      "metadata": {
        "id": "bDWfIpzubDsR"
      }
    },
    {
      "cell_type": "code",
      "source": [
        "#Funciones\n",
        "def suma(n):\n",
        "  \"\"\" suma: Realiza la suma de los primeros n naturales\n",
        "  params:\n",
        "        n = un numero natural\n",
        "  return La suma\n",
        "  \"\"\"\n",
        "  s = 0\n",
        "  while n>0:\n",
        "    s +=n\n",
        "    n -=1\n",
        "  return s"
      ],
      "metadata": {
        "id": "udSpvNTJ4lVJ"
      },
      "execution_count": 2,
      "outputs": []
    },
    {
      "cell_type": "code",
      "source": [
        "suma(suma(5))"
      ],
      "metadata": {
        "colab": {
          "base_uri": "https://localhost:8080/"
        },
        "id": "XZ40IKOBbqOv",
        "outputId": "aad56ac1-cba3-4482-d254-5cac277cc551"
      },
      "execution_count": 3,
      "outputs": [
        {
          "output_type": "execute_result",
          "data": {
            "text/plain": [
              "120"
            ]
          },
          "metadata": {},
          "execution_count": 3
        }
      ]
    },
    {
      "cell_type": "code",
      "source": [
        "def pow(x,y):\n",
        "  \"\"\" Calcula x^y\"\"\"\n",
        "  p = 1\n",
        "  while y>0:\n",
        "    p *= x\n",
        "    y -= 1\n",
        "  return p\n",
        "pow(5,2)"
      ],
      "metadata": {
        "colab": {
          "base_uri": "https://localhost:8080/"
        },
        "id": "RgB19mX2btZV",
        "outputId": "714dfa1e-72d1-44fb-873a-52f3b00a9811"
      },
      "execution_count": 4,
      "outputs": [
        {
          "output_type": "execute_result",
          "data": {
            "text/plain": [
              "25"
            ]
          },
          "metadata": {},
          "execution_count": 4
        }
      ]
    },
    {
      "cell_type": "code",
      "source": [
        "def pow(x,y = 2): #Indicarle un parametro por default\n",
        "  \"\"\" Calcula x^y\"\"\"\n",
        "  p = 1\n",
        "  while y>0:\n",
        "    p *= x\n",
        "    y -= 1\n",
        "  return p\n",
        "pow(8,3)"
      ],
      "metadata": {
        "colab": {
          "base_uri": "https://localhost:8080/"
        },
        "id": "8EN3cVUrcbEL",
        "outputId": "1a655c8c-6e9a-4660-a2a8-d00a3a5b62ec"
      },
      "execution_count": 7,
      "outputs": [
        {
          "output_type": "execute_result",
          "data": {
            "text/plain": [
              "512"
            ]
          },
          "metadata": {},
          "execution_count": 7
        }
      ]
    },
    {
      "cell_type": "code",
      "source": [
        "pow(y=3,x=5)"
      ],
      "metadata": {
        "colab": {
          "base_uri": "https://localhost:8080/"
        },
        "id": "ddz36xErcf7Y",
        "outputId": "8e0489a7-b438-441b-d399-54747dc884ab"
      },
      "execution_count": 8,
      "outputs": [
        {
          "output_type": "execute_result",
          "data": {
            "text/plain": [
              "125"
            ]
          },
          "metadata": {},
          "execution_count": 8
        }
      ]
    },
    {
      "cell_type": "code",
      "source": [
        "def maximo(*num): #Podemos ingresar un número indefinido de parámetros\n",
        "  if not num:\n",
        "    return None\n",
        "  else:\n",
        "    n_max = num[0]\n",
        "    for n in num[1:]:\n",
        "      if n > n_max:\n",
        "        n_max = n\n",
        "    return n_max"
      ],
      "metadata": {
        "id": "WX_L6k0Vcuow"
      },
      "execution_count": 9,
      "outputs": []
    },
    {
      "cell_type": "code",
      "source": [
        "maximo(9,8,7,6,5,11,8,5,9)"
      ],
      "metadata": {
        "colab": {
          "base_uri": "https://localhost:8080/"
        },
        "id": "fTXvCbnVeazT",
        "outputId": "c3fcffba-e849-42c0-87cf-8a17d2fedd28"
      },
      "execution_count": 12,
      "outputs": [
        {
          "output_type": "execute_result",
          "data": {
            "text/plain": [
              "11"
            ]
          },
          "metadata": {},
          "execution_count": 12
        }
      ]
    },
    {
      "cell_type": "code",
      "source": [
        "print(suma.__doc__)"
      ],
      "metadata": {
        "colab": {
          "base_uri": "https://localhost:8080/"
        },
        "id": "1Oz9YQtXecO3",
        "outputId": "cd254f75-e400-433a-a19b-c395f732f5ab"
      },
      "execution_count": 13,
      "outputs": [
        {
          "output_type": "stream",
          "name": "stdout",
          "text": [
            " suma: Realiza la suma de los primeros n naturales\n",
            "  params:\n",
            "        n = un numero natural\n",
            "  return La suma\n",
            "  \n"
          ]
        }
      ]
    },
    {
      "cell_type": "code",
      "source": [
        "class Circulos():\n",
        "  def __init__(self):\n",
        "    self.radio = 1"
      ],
      "metadata": {
        "id": "IKloTO5RgMSn"
      },
      "execution_count": 14,
      "outputs": []
    },
    {
      "cell_type": "code",
      "source": [
        "c1 = Circulos()\n",
        "c1.radio"
      ],
      "metadata": {
        "colab": {
          "base_uri": "https://localhost:8080/"
        },
        "id": "gp0ebDRwhegy",
        "outputId": "bdc6373c-350b-4607-95d5-99f97c3d2004"
      },
      "execution_count": 18,
      "outputs": [
        {
          "output_type": "execute_result",
          "data": {
            "text/plain": [
              "1"
            ]
          },
          "metadata": {},
          "execution_count": 18
        }
      ]
    },
    {
      "cell_type": "code",
      "source": [
        "c2 = Circulos()\n",
        "c2.radio = 5\n",
        "c2.radio"
      ],
      "metadata": {
        "colab": {
          "base_uri": "https://localhost:8080/"
        },
        "id": "pe-XnoePhhmz",
        "outputId": "84952ed9-bedb-41f4-b2c4-53a058e2bf14"
      },
      "execution_count": 16,
      "outputs": [
        {
          "output_type": "execute_result",
          "data": {
            "text/plain": [
              "5"
            ]
          },
          "metadata": {},
          "execution_count": 16
        }
      ]
    },
    {
      "cell_type": "code",
      "source": [
        "c1.nuevo = 'hola'\n",
        "c1.nuevo"
      ],
      "metadata": {
        "colab": {
          "base_uri": "https://localhost:8080/",
          "height": 35
        },
        "id": "WRzg37xahl-_",
        "outputId": "49ce41b8-5102-4775-a2fc-e2e68b724704"
      },
      "execution_count": 19,
      "outputs": [
        {
          "output_type": "execute_result",
          "data": {
            "text/plain": [
              "'hola'"
            ],
            "application/vnd.google.colaboratory.intrinsic+json": {
              "type": "string"
            }
          },
          "metadata": {},
          "execution_count": 19
        }
      ]
    },
    {
      "cell_type": "code",
      "source": [
        "class Circulos():\n",
        "  pi = 3.14159 #Atributo de clase\n",
        "  def __init__(self):\n",
        "    self.radio = 1"
      ],
      "metadata": {
        "id": "Bm9YzOs9hyWn"
      },
      "execution_count": 20,
      "outputs": []
    },
    {
      "cell_type": "code",
      "source": [
        "c1 = Circulos()\n",
        "c1.pi"
      ],
      "metadata": {
        "colab": {
          "base_uri": "https://localhost:8080/"
        },
        "id": "EyBheuEUiVzZ",
        "outputId": "a224a227-30b0-4bfe-df2c-8c551388e563"
      },
      "execution_count": 21,
      "outputs": [
        {
          "output_type": "execute_result",
          "data": {
            "text/plain": [
              "3.14159"
            ]
          },
          "metadata": {},
          "execution_count": 21
        }
      ]
    },
    {
      "cell_type": "code",
      "source": [
        "Circulos.pi = 3"
      ],
      "metadata": {
        "id": "i2sHozgSiZjV"
      },
      "execution_count": 22,
      "outputs": []
    },
    {
      "cell_type": "code",
      "source": [
        "c1.pi"
      ],
      "metadata": {
        "colab": {
          "base_uri": "https://localhost:8080/"
        },
        "id": "L61O9In3ieio",
        "outputId": "657c4cf5-dd32-498b-e725-ca2317f002a1"
      },
      "execution_count": 23,
      "outputs": [
        {
          "output_type": "execute_result",
          "data": {
            "text/plain": [
              "3"
            ]
          },
          "metadata": {},
          "execution_count": 23
        }
      ]
    },
    {
      "cell_type": "code",
      "source": [],
      "metadata": {
        "id": "unvp4Gj6ifg9"
      },
      "execution_count": null,
      "outputs": []
    }
  ]
}